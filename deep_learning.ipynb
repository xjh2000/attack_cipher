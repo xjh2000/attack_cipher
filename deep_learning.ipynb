{
 "cells": [
  {
   "cell_type": "code",
   "execution_count": 2,
   "metadata": {},
   "outputs": [
    {
     "name": "stdout",
     "output_type": "stream",
     "text": [
      "CUDA is not available.\n",
      "tensor([[0.4379, 0.4270, 0.3766],\n",
      "        [0.5798, 0.0222, 0.2205],\n",
      "        [0.4127, 0.3463, 0.0274],\n",
      "        [0.1939, 0.0340, 0.0344],\n",
      "        [0.6373, 0.2450, 0.6115]])\n"
     ]
    }
   ],
   "source": [
    "import torch\n",
    "\n",
    "# Check if CUDA is available\n",
    "if torch.cuda.is_available():\n",
    "    print(\"CUDA is available!\")\n",
    "    device = torch.device(\"cuda\")\n",
    "else:\n",
    "    print(\"CUDA is not available.\")\n",
    "    device = torch.device(\"cpu\")\n",
    "\n",
    "# Create a tensor\n",
    "x = torch.rand(5, 3)\n",
    "\n",
    "# Move the tensor to the GPU\n",
    "x = x.to(device)\n",
    "\n",
    "# Print the tensor\n",
    "print(x)"
   ]
  }
 ],
 "metadata": {
  "kernelspec": {
   "display_name": "pytorch",
   "language": "python",
   "name": "python3"
  },
  "language_info": {
   "codemirror_mode": {
    "name": "ipython",
    "version": 3
   },
   "file_extension": ".py",
   "mimetype": "text/x-python",
   "name": "python",
   "nbconvert_exporter": "python",
   "pygments_lexer": "ipython3",
   "version": "3.12.2"
  }
 },
 "nbformat": 4,
 "nbformat_minor": 2
}
