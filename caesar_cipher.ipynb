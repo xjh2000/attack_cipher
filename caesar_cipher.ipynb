{
 "cells": [
  {
   "cell_type": "markdown",
   "metadata": {},
   "source": [
    "# Caeser cipher "
   ]
  },
  {
   "cell_type": "code",
   "execution_count": 1,
   "metadata": {},
   "outputs": [
    {
     "data": {
      "text/plain": [
       "4.700439718141093"
      ]
     },
     "execution_count": 1,
     "metadata": {},
     "output_type": "execute_result"
    }
   ],
   "source": [
    "import math\n",
    "\n",
    "math.log(26) / math.log(2)"
   ]
  },
  {
   "cell_type": "markdown",
   "metadata": {},
   "source": [
    "## continuous order substitution\n",
    "\n",
    "Plaintext Space : $26=2^{4.70}$\n",
    "\n",
    "Key Space : $26=2^{4.70}$\n",
    "\n",
    "Example Key:\n",
    "\n",
    "| Original | a | b | c | d | e | f | g | h | i | j | k | l | m | n | o | p | q | r | s | t | u | v | w | x | y | z |\n",
    "|----------|---|---|---|---|---|---|---|---|---|---|---|---|---|---|---|---|---|---|---|---|---|---|---|---|---|---|\n",
    "| Cipher   | t | u | v | w | x | y | z | a | b | c | d | e | f | g | h | i | j | k | l | m | n | o | p | q | r | s |\n",
    "\n",
    "issue : the key space too small\n",
    "\n",
    "\n",
    "**Any secure encryption scheme must have a key space that is not\n",
    "vulnerable to exhaustive search.**"
   ]
  },
  {
   "cell_type": "markdown",
   "metadata": {},
   "source": [
    "## Mono-alphabetic substitution\n",
    "\n",
    "Plaintext Space : $26=2^{4.70}$\n",
    "\n",
    "Key Space : $26!\\approx2^{88}$\n",
    "\n",
    "Example Key:\n",
    "\n",
    "| Original | a | b | c | d | e | f | g | h | i | j | k | l | m | n | o | p | q | r | s | t | u | v | w | x | y | z |\n",
    "|----------|---|---|---|---|---|---|---|---|---|---|---|---|---|---|---|---|---|---|---|---|---|---|---|---|---|---|\n",
    "| Cipher   | x | e | u | a | d | n | b | k | v | m | r | o | c | q | f | s | y | h | w | g | l | z | i | j | p | t |"
   ]
  },
  {
   "cell_type": "markdown",
   "metadata": {},
   "source": [
    "Attact example\n",
    "\n",
    "Average letter frequencies in the English language:\n",
    "\n",
    "| a | b | c | d | e | f | g | h | i | j | k | l | m | n | o | p | q | r | s | t | u | v | w | x | y | z |\n",
    "|---|---|---|---|---|---|---|---|---|---|---|---|---|---|---|---|---|---|---|---|---|---|---|---|---|---|\n",
    "| 8.2 | 1.5 | 2.8 | 4.2 | 12.7 | 2.2 | 2.0 | 6.1 | 7.0 | 0.1 | 0.8 | 4.0 | 2.4 | 6.7 | 7.5 | 1.9 | 0.1 | 6.0 | 6.3 | 9.0 | 2.8 | 1.0 | 2.4 | 2.0 | 0.1 | 0.1 |\n",
    "\n",
    "plaintext:\n",
    "\n",
    "weconcludethatalthoughthemonoalphabeticcipherh\n",
    "asaverylargekeyspaceitisstillcompletelyinsecur\n",
    "ethisisanotherimportantlessonnamelyalthoughala\n",
    "rgekeyspaceisnecessaryforanysecurecipheritisve\n",
    "ryfarfrombeingsucient\n",
    "\n",
    "ciphertext:\n",
    "\n",
    "idufquoladgkxgxogkflbkgkdcfqfxoskxedgvuuvskdhk\n",
    "xwxzdhpoxhbdrdpwsxudvgvwwgvooufcsodgdopvqwdulh\n",
    "dgkvwvwxqfgkdhvcsfhgxqgodwwfqqxcdopxogkflbkxox\n",
    "hbdrdpwsxudvwqdudwwxhpnfhxqpwdulhduvskdhvgvwzd\n",
    "hpnxhnhfcedvqbwluvdqg"
   ]
  },
  {
   "cell_type": "code",
   "execution_count": 12,
   "metadata": {},
   "outputs": [
    {
     "data": {
      "text/plain": [
       "array([['a', '8.2'],\n",
       "       ['b', '1.5'],\n",
       "       ['c', '2.8'],\n",
       "       ['d', '4.2'],\n",
       "       ['e', '12.7'],\n",
       "       ['f', '2.2'],\n",
       "       ['g', '2.0'],\n",
       "       ['h', '6.1'],\n",
       "       ['i', '7.0'],\n",
       "       ['j', '0.1'],\n",
       "       ['k', '0.8'],\n",
       "       ['l', '4.0'],\n",
       "       ['m', '2.4'],\n",
       "       ['n', '6.7'],\n",
       "       ['o', '7.5'],\n",
       "       ['p', '1.9'],\n",
       "       ['q', '0.1'],\n",
       "       ['r', '6.0'],\n",
       "       ['s', '6.3'],\n",
       "       ['t', '9.0'],\n",
       "       ['u', '2.8'],\n",
       "       ['v', '1.0'],\n",
       "       ['w', '2.4'],\n",
       "       ['x', '2.0'],\n",
       "       ['y', '0.1'],\n",
       "       ['z', '0.1']], dtype='<U32')"
      ]
     },
     "execution_count": 12,
     "metadata": {},
     "output_type": "execute_result"
    }
   ],
   "source": [
    "import numpy as np\n",
    "\n",
    "known_distribute =np.array([\n",
    "    ('a', 8.2), ('b', 1.5), ('c', 2.8), ('d', 4.2), ('e', 12.7), ('f', 2.2), \n",
    "    ('g', 2.0), ('h', 6.1), ('i', 7.0), ('j', 0.1), ('k', 0.8), ('l', 4.0), \n",
    "    ('m', 2.4), ('n', 6.7), ('o', 7.5), ('p', 1.9), ('q', 0.1), ('r', 6.0), \n",
    "    ('s', 6.3), ('t', 9.0), ('u', 2.8), ('v', 1.0), ('w', 2.4), ('x', 2.0), \n",
    "    ('y', 0.1), ('z', 0.1)\n",
    "])\n",
    "known_distribute"
   ]
  },
  {
   "cell_type": "code",
   "execution_count": 37,
   "metadata": {},
   "outputs": [
    {
     "name": "stdout",
     "output_type": "stream",
     "text": [
      "weconcludethatalthoughthemonoalphabeticcipherhasaverylargekeyspaceitisstillcompletelyinsecurethisisanotherimportantlessonnamelyalthoughalargekeyspaceisnecessaryforanysecurecipheritisveryfarfrombeingsucient\n"
     ]
    },
    {
     "data": {
      "text/plain": [
       "array([['w', '0.4878048780487805'],\n",
       "       ['e', '13.170731707317074'],\n",
       "       ['c', '5.853658536585367'],\n",
       "       ['o', '5.365853658536586'],\n",
       "       ['n', '5.365853658536586'],\n",
       "       ['l', '5.853658536585367'],\n",
       "       ['u', '2.9268292682926833'],\n",
       "       ['d', '0.4878048780487805'],\n",
       "       ['t', '7.317073170731707'],\n",
       "       ['h', '5.853658536585367'],\n",
       "       ['a', '8.780487804878048'],\n",
       "       ['g', '2.4390243902439024'],\n",
       "       ['m', '2.4390243902439024'],\n",
       "       ['p', '3.414634146341464'],\n",
       "       ['b', '0.975609756097561'],\n",
       "       ['i', '7.317073170731707'],\n",
       "       ['r', '6.829268292682928'],\n",
       "       ['s', '7.804878048780488'],\n",
       "       ['v', '0.975609756097561'],\n",
       "       ['y', '3.902439024390244'],\n",
       "       ['k', '0.975609756097561'],\n",
       "       ['f', '1.4634146341463417']], dtype='<U32')"
      ]
     },
     "execution_count": 37,
     "metadata": {},
     "output_type": "execute_result"
    }
   ],
   "source": [
    "from collections import Counter\n",
    "\n",
    "text = \"\"\"\n",
    "We conclude that, although the mono-alphabetic cipher has a very large\n",
    "key space, it is still completely insecure. This is another important lesson.\n",
    "Namely, although a large key space is necessary for any secure cipher, it is\n",
    "very far from being sucient.\n",
    "\"\"\"\n",
    "# Convert the text to lowercase and filter out non-letter characters\n",
    "plaintext = [char for char in text.lower() if char.isalpha()]\n",
    "print(\"\".join(plaintext))\n",
    "key = {\n",
    "    \"a\": \"x\",\n",
    "    \"b\": \"e\",\n",
    "    \"c\": \"u\",\n",
    "    \"d\": \"a\",\n",
    "    \"e\": \"d\",\n",
    "    \"f\": \"n\",\n",
    "    \"g\": \"b\",\n",
    "    \"h\": \"k\",\n",
    "    \"i\": \"v\",\n",
    "    \"j\": \"m\",\n",
    "    \"k\": \"r\",\n",
    "    \"l\": \"o\",\n",
    "    \"m\": \"c\",\n",
    "    \"n\": \"q\",\n",
    "    \"o\": \"f\",\n",
    "    \"p\": \"s\",\n",
    "    \"q\": \"y\",\n",
    "    \"r\": \"h\",\n",
    "    \"s\": \"w\",\n",
    "    \"t\": \"g\",\n",
    "    \"u\": \"l\",\n",
    "    \"v\": \"z\",\n",
    "    \"w\": \"i\",\n",
    "    \"x\": \"j\",\n",
    "    \"y\": \"p\",\n",
    "    \"z\": \"t\",\n",
    "}\n",
    "\n",
    "letter_counts = Counter(plaintext)\n",
    "\n",
    "known_distribute_list = []\n",
    "for letter, count in letter_counts.items():\n",
    "    known_distribute_list.append((letter, count / len(plaintext) * 100))\n",
    "\n",
    "known_distribute = np.array(known_distribute_list)\n",
    "\n",
    "known_distribute"
   ]
  },
  {
   "cell_type": "code",
   "execution_count": 36,
   "metadata": {},
   "outputs": [
    {
     "name": "stdout",
     "output_type": "stream",
     "text": [
      "idufquoladgkxgxogkflbkgkdcfqfxoskxedgvuuvskdhkxwxzdhpoxhbdrdpwsxudvgvwwgvooufcsodgdopvqwdulhdgkvwvwxqfgkdhvcsfhgxqgodwwfqqxcdopxogkflbkxoxhbdrdpwsxudvwqdudwwxhpnfhxqpwdulhduvskdhvgvwzdhpnxhnhfcedvqbwluvdqg\n"
     ]
    },
    {
     "data": {
      "text/plain": [
       "array([['i', '0.4878048780487805'],\n",
       "       ['d', '13.170731707317074'],\n",
       "       ['u', '5.853658536585367'],\n",
       "       ['f', '5.365853658536586'],\n",
       "       ['q', '5.365853658536586'],\n",
       "       ['o', '5.853658536585367'],\n",
       "       ['l', '2.9268292682926833'],\n",
       "       ['a', '0.4878048780487805'],\n",
       "       ['g', '7.317073170731707'],\n",
       "       ['k', '5.853658536585367'],\n",
       "       ['x', '8.780487804878048'],\n",
       "       ['b', '2.4390243902439024'],\n",
       "       ['c', '2.4390243902439024'],\n",
       "       ['s', '3.414634146341464'],\n",
       "       ['e', '0.975609756097561'],\n",
       "       ['v', '7.317073170731707'],\n",
       "       ['h', '6.829268292682928'],\n",
       "       ['w', '7.804878048780488'],\n",
       "       ['z', '0.975609756097561'],\n",
       "       ['p', '3.902439024390244'],\n",
       "       ['r', '0.975609756097561'],\n",
       "       ['n', '1.4634146341463417']], dtype='<U32')"
      ]
     },
     "execution_count": 36,
     "metadata": {},
     "output_type": "execute_result"
    }
   ],
   "source": [
    "from collections import Counter\n",
    "\n",
    "ciphertext = [key[char] for char in plaintext]\n",
    "print(\"\".join(ciphertext))\n",
    "letter_counts = Counter(ciphertext)\n",
    "\n",
    "statistics_distribute_list = []\n",
    "for letter, count in letter_counts.items():\n",
    "    statistics_distribute_list.append((letter, count / len(ciphertext) * 100))\n",
    "\n",
    "statistics_distribute = np.array(statistics_distribute_list)\n",
    "\n",
    "statistics_distribute"
   ]
  },
  {
   "cell_type": "code",
   "execution_count": 33,
   "metadata": {},
   "outputs": [
    {
     "data": {
      "text/plain": [
       "array([['i', 'w'],\n",
       "       ['a', 'd'],\n",
       "       ['z', 'v'],\n",
       "       ['e', 'b'],\n",
       "       ['r', 'k'],\n",
       "       ['n', 'f'],\n",
       "       ['d', 'e'],\n",
       "       ['b', 'g'],\n",
       "       ['c', 'm'],\n",
       "       ['l', 'u'],\n",
       "       ['s', 'p'],\n",
       "       ['p', 'y'],\n",
       "       ['q', 'n'],\n",
       "       ['f', 'o'],\n",
       "       ['k', 'h'],\n",
       "       ['u', 'c'],\n",
       "       ['o', 'l'],\n",
       "       ['h', 'r'],\n",
       "       ['g', 't'],\n",
       "       ['v', 'i'],\n",
       "       ['w', 's'],\n",
       "       ['x', 'a']], dtype='<U1')"
      ]
     },
     "execution_count": 33,
     "metadata": {},
     "output_type": "execute_result"
    }
   ],
   "source": [
    "# Assuming known_distribute and statistics_distribute are defined\n",
    "\n",
    "# Sort both arrays based on the second element of each tuple\n",
    "known_distribute = known_distribute[known_distribute[:,1].argsort()]\n",
    "statistics_distribute = statistics_distribute[statistics_distribute[:,1].argsort()]\n",
    "\n",
    "# Create a new array of tuples\n",
    "combined = np.array(list(zip(statistics_distribute[:,0],known_distribute[:,0] )))\n",
    "combined"
   ]
  },
  {
   "cell_type": "code",
   "execution_count": 34,
   "metadata": {},
   "outputs": [
    {
     "name": "stdout",
     "output_type": "stream",
     "text": [
      "weconcludethatalthoughthemonoalphabeticcipherhasaverylargekeyspaceitisstillcompletelyinsecurethisisanotherimportantlessonnamelyalthoughalargekeyspaceisnecessaryforanysecurecipheritisveryfarfrombeingsucient\n"
     ]
    }
   ],
   "source": [
    "# Create a mapping dictionary\n",
    "mapping = {original: mapped for original, mapped in combined}\n",
    "\n",
    "mapped_ciphertext = \"\".join(mapping.get(letter, letter) for letter in ciphertext)\n",
    "\n",
    "print(mapped_ciphertext)"
   ]
  }
 ],
 "metadata": {
  "kernelspec": {
   "display_name": "attack",
   "language": "python",
   "name": "python3"
  },
  "language_info": {
   "codemirror_mode": {
    "name": "ipython",
    "version": 3
   },
   "file_extension": ".py",
   "mimetype": "text/x-python",
   "name": "python",
   "nbconvert_exporter": "python",
   "pygments_lexer": "ipython3",
   "version": "3.11.5"
  }
 },
 "nbformat": 4,
 "nbformat_minor": 2
}
