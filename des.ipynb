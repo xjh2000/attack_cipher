{
 "cells": [
  {
   "cell_type": "markdown",
   "metadata": {},
   "source": [
    "# Des\n",
    "\n",
    "In all of the attacks below, we assume that the adversary has a number\n",
    "of pairs $(x, y)$ where $y = DES_k(x)$, and $k$ is the secret key. (We will not\n",
    "need the fact that the adversary can adaptively choose the values $x$ for which\n",
    "it will receive $y = DES_k(x)$). Since DES is a Feistel network, the internal\n",
    "f-function works on half a block at a time. We denote the left half of the\n",
    "input by $x_1$ and the right half by $x_2$. Likewise, we denote the left half of the\n",
    "output by $y_1$ and the right half of the output by $y_2$."
   ]
  },
  {
   "cell_type": "markdown",
   "metadata": {},
   "source": [
    "## one round\n",
    "\n",
    "$\\begin{cases}\n",
    "x \\to x_1||x_2\\; ,  \\; y\\to y_1 || y _2 \\\\\n",
    "y_1=x_2 \\\\\n",
    "y_2=x_1\\oplus f_1(x_2) \\\\\n",
    "f_1(x)=S(E(x)\\oplus k)\n",
    "\\end{cases}\n",
    "$\n",
    "\n",
    "we know $x$ and $y$, we want to know $k$."
   ]
  },
  {
   "cell_type": "code",
   "execution_count": null,
   "metadata": {
    "vscode": {
     "languageId": "plaintext"
    }
   },
   "outputs": [],
   "source": []
  }
 ],
 "metadata": {
  "language_info": {
   "name": "python"
  }
 },
 "nbformat": 4,
 "nbformat_minor": 2
}
