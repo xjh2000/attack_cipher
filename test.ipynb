{
 "cells": [
  {
   "cell_type": "markdown",
   "metadata": {},
   "source": [
    "## One-Time pad test\n",
    "\n",
    "use the occure xor plaintext and ciphertext to evaluation cipher sercurity\n",
    "\n",
    "ref document : https://www.yuque.com/xjh2000/zzqz0g/fn87k1ies6t4i63p#p1FR2"
   ]
  },
  {
   "cell_type": "code",
   "execution_count": 2,
   "metadata": {},
   "outputs": [
    {
     "name": "stdout",
     "output_type": "stream",
     "text": [
      "b'\\xf9\\x85\\xd2\\x1e\\xab\\xb5)\\x8b\\x12\\xf4q\\x8drY\\xe2\\x96'\n"
     ]
    }
   ],
   "source": [
    "from Crypto.Cipher import AES\n",
    "from Crypto.Random import get_random_bytes\n",
    "\n",
    "# Generate a random 256-bit key\n",
    "key = bytes([0x00] * 32)\n",
    "\n",
    "# Create a new AES cipher object with the key\n",
    "cipher = AES.new(key, AES.MODE_ECB)\n",
    "\n",
    "# The plaintext to encrypt\n",
    "plaintext = b'This is a test.'\n",
    "\n",
    "# Pad the plaintext to a multiple of 16 bytes (128 bits)\n",
    "padding_length = 16 - len(plaintext) % 16\n",
    "plaintext += bytes([padding_length]) * padding_length\n",
    "\n",
    "# Encrypt the plaintext\n",
    "ciphertext = cipher.encrypt(plaintext)\n",
    "\n",
    "print(ciphertext)"
   ]
  },
  {
   "cell_type": "code",
   "execution_count": 16,
   "metadata": {},
   "outputs": [],
   "source": [
    "import random\n",
    "import string\n",
    "\n",
    "# Define the length of each plaintext string\n",
    "length = 16\n",
    "\n",
    "# Generate 10,000 random plaintext strings\n",
    "plaintexts = [bytes(''.join(random.choices(string.ascii_lowercase, k=length)), 'utf-8') for _ in range(1000000)]\n",
    "\n",
    "ciphertexts = [cipher.encrypt(plaintext) for plaintext in plaintexts]"
   ]
  },
  {
   "cell_type": "code",
   "execution_count": 20,
   "metadata": {},
   "outputs": [],
   "source": [
    "from collections import Counter\n",
    "\n",
    "\n",
    "# XOR each plaintext with its corresponding ciphertext and convert the result to a string\n",
    "xor_results = [bytes(a ^ b for a, b in zip(plaintext, ciphertext)).decode('utf-8', 'ignore') for plaintext, ciphertext in zip(plaintexts, ciphertexts)]\n",
    "\n",
    "# Count the occurrence of each result\n",
    "result_counts = Counter(xor_results)\n",
    "\n",
    "# Now result_counts is a dictionary where each key is a XOR result and each value is the count of that result"
   ]
  },
  {
   "cell_type": "code",
   "execution_count": 21,
   "metadata": {},
   "outputs": [
    {
     "data": {
      "text/plain": [
       "2"
      ]
     },
     "execution_count": 21,
     "metadata": {},
     "output_type": "execute_result"
    }
   ],
   "source": [
    "max_count = max(result_counts.values())\n",
    "max_count"
   ]
  }
 ],
 "metadata": {
  "kernelspec": {
   "display_name": "attack",
   "language": "python",
   "name": "python3"
  },
  "language_info": {
   "codemirror_mode": {
    "name": "ipython",
    "version": 3
   },
   "file_extension": ".py",
   "mimetype": "text/x-python",
   "name": "python",
   "nbconvert_exporter": "python",
   "pygments_lexer": "ipython3",
   "version": "3.11.5"
  }
 },
 "nbformat": 4,
 "nbformat_minor": 2
}
